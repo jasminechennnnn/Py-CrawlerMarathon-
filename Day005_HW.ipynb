{
 "cells": [
  {
   "cell_type": "markdown",
   "metadata": {},
   "source": [
    "# API 資料串接 - 以 Dcard API 實作範例\n",
    "\n",
    "* 了解 Dcard API 使用方式與回傳內容\n",
    "* 撰寫程式存取 API 且解析 JSON 格式資料\n"
   ]
  },
  {
   "cell_type": "markdown",
   "metadata": {},
   "source": [
    "## 作業目標\n",
    "\n",
    "* 請利用 API: https://www.dcard.tw/_api/forums/pet/posts?popular=true 回答下列問題：\n",
    "\n",
    "1. 這個 API 一次會回傳幾筆資料？每一筆資料包含哪些欄位？\n",
    "2. 取出每一筆資料的「標題」、「貼文時間」、「留言人數」、「按讚人數」\n",
    "3. 計算熱門/非熱門文章的「平均留言人數」與「平均按讚人數」"
   ]
  },
  {
   "cell_type": "code",
   "execution_count": 23,
   "metadata": {},
   "outputs": [],
   "source": [
    "import requests\n",
    "r = requests.get(\"https://www.dcard.tw/_api/forums/pet/posts?popular=true\")\n",
    "response = r.text\n",
    "\n",
    "import json\n",
    "data = json.loads(response)"
   ]
  },
  {
   "cell_type": "code",
   "execution_count": 19,
   "metadata": {},
   "outputs": [
    {
     "output_type": "stream",
     "name": "stdout",
     "text": "一次回傳 30 筆資料\nid\ntitle\nexcerpt\nanonymousSchool\nanonymousDepartment\npinned\nforumId\nreplyId\ncreatedAt\nupdatedAt\ncommentCount\nlikeCount\nwithNickname\ntags\ntopics\nmeta\nforumName\nforumAlias\nnsfw\ngender\nschool\nreplyTitle\nmediaMeta\nreactions\nhidden\ncustomStyle\nisSuspiciousAccount\nlayout\nwithImages\nwithVideos\nmedia\nreportReasonText\npostAvatar\n"
    }
   ],
   "source": [
    "# 1.這個 API 一次會回傳幾筆資料？每一筆資料包含哪些欄位？\n",
    "print(\"一次回傳\", len(data), \"筆資料\")\n",
    "# print(\"每筆資料包含\", len(data[0]), \"個欄位\")\n",
    "\n",
    "for key in data[0].keys():\n",
    "    print(key)"
   ]
  },
  {
   "cell_type": "code",
   "execution_count": 28,
   "metadata": {},
   "outputs": [
    {
     "output_type": "stream",
     "name": "stdout",
     "text": "Title: 高雄11隻米克斯幼幼等一個家\nTime: 2020-05-27T05:41:55.133Z\nComment count: 11\nLike count 294 \n\nTitle: 我的貓有個摯愛的玩具\nTime: 2020-05-27T02:52:41.029Z\nComment count: 7\nLike count 161 \n\nTitle: 天使貓來著\nTime: 2020-05-27T11:41:14.923Z\nComment count: 10\nLike count 143 \n\nTitle: 養寵物得疥癬？\nTime: 2020-05-27T11:20:34.205Z\nComment count: 33\nLike count 132 \n\nTitle: 貓咪剃毛恐龍造型🦖\nTime: 2020-05-27T18:26:57.792Z\nComment count: 14\nLike count 88 \n\nTitle: 一年的業餘中途\nTime: 2020-05-27T09:02:56.205Z\nComment count: 8\nLike count 59 \n\nTitle: 浮誇的睡姿\nTime: 2020-05-27T10:17:19.683Z\nComment count: 0\nLike count 22 \n\nTitle: 哈士奇天使的笑容\nTime: 2020-05-28T03:09:12.891Z\nComment count: 3\nLike count 20 \n\nTitle: 成為了鏟屎官的一員\nTime: 2020-05-27T23:49:46.472Z\nComment count: 4\nLike count 20 \n\nTitle: #問 這是什麼動物\nTime: 2020-05-27T10:31:08.366Z\nComment count: 16\nLike count 20 \n\nTitle: 再見了奶茶 文長\nTime: 2020-05-27T10:46:05.955Z\nComment count: 1\nLike count 19 \n\nTitle: 我家阿柴尿好尿滿\nTime: 2020-05-27T05:34:57.120Z\nComment count: 1\nLike count 17 \n\nTitle: #圖 #柴犬 #黑柴 我家有隻樂透寶🐶\nTime: 2020-05-27T12:26:04.696Z\nComment count: 4\nLike count 16 \n\nTitle: #圖 等等你們在幹嘛？\nTime: 2020-05-27T11:12:05.481Z\nComment count: 4\nLike count 16 \n\nTitle: 我的貓咪\nTime: 2020-05-27T09:49:59.913Z\nComment count: 1\nLike count 12 \n\nTitle: 姑姑領養的米克斯走丟，希望大家幫忙分享😭🙏🏼\nTime: 2020-05-28T09:01:03.643Z\nComment count: 3\nLike count 9 \n\nTitle: 沒有準備好以下幾點，不要輕易養寵物。\nTime: 2020-05-28T08:13:23.286Z\nComment count: 3\nLike count 8 \n\nTitle: #貓奴必看 七大人氣貓砂評價整理\nTime: 2020-05-27T12:51:24.532Z\nComment count: 3\nLike count 7 \n\nTitle: 想一口咬死爹\nTime: 2020-05-27T11:14:00.587Z\nComment count: 1\nLike count 7 \n\nTitle: 養狗相關問題求助\nTime: 2020-05-27T03:53:13.674Z\nComment count: 20\nLike count 7 \n\nTitle: 老闆來一客鸚鵡手卷\nTime: 2020-05-27T12:33:31.999Z\nComment count: 2\nLike count 6 \n\nTitle: 貓奴主食罐推薦\nTime: 2020-05-27T17:07:39.483Z\nComment count: 6\nLike count 5 \n\nTitle: #求問 貓咪飼料轉半乾半濕\nTime: 2020-05-27T14:10:47.879Z\nComment count: 23\nLike count 5 \n\nTitle: 貓貓 拆結的時候剪到肉!!\nTime: 2020-05-27T12:48:12.127Z\nComment count: 1\nLike count 5 \n\nTitle: #台北 獵奇萌寵咖啡廳\nTime: 2020-05-28T07:41:10.504Z\nComment count: 1\nLike count 4 \n\nTitle: 下雨過後長恐龍🦖\nTime: 2020-05-28T06:18:18.128Z\nComment count: 8\nLike count 4 \n\nTitle: 撿到斑龜？應該是斑龜吧\nTime: 2020-05-27T08:07:29.110Z\nComment count: 7\nLike count 4 \n\nTitle: 送養文 馬爾濟斯\nTime: 2020-05-27T05:51:28.287Z\nComment count: 19\nLike count 4 \n\nTitle: 大家來討論\nTime: 2020-05-27T03:26:00.313Z\nComment count: 4\nLike count 4 \n\nTitle: 送養文\nTime: 2020-05-28T07:00:44.654Z\nComment count: 2\nLike count 3 \n\n"
    }
   ],
   "source": [
    "# 2. 取出每一筆資料的「標題」、「貼文時間」、「留言人數」、「按讚人數」\n",
    "\n",
    "for d in data:\n",
    "    print(\"Title:\", d[\"title\"])\n",
    "    print(\"Time:\", d[\"createdAt\"])\n",
    "    print(\"Comment count:\", d[\"commentCount\"])\n",
    "    print(\"Like count\", d[\"likeCount\"], \"\\n\")"
   ]
  },
  {
   "cell_type": "code",
   "execution_count": 49,
   "metadata": {},
   "outputs": [
    {
     "output_type": "stream",
     "name": "stdout",
     "text": "熱門文章平均留言人數 = 7.33 , 平均按讚人數 = 37.37 \n\n非熱門文章平均留言人數 = 4.1 , 平均按讚人數 = 8.23\n"
    }
   ],
   "source": [
    "# 3. 計算熱門/非熱門文章的「平均留言人數」與「平均按讚人數」\n",
    "r_nPop = requests.get(\"https://www.dcard.tw/_api/forums/pet/posts?popular=false\")\n",
    "response_nPop = r_nPop.text\n",
    "data_nPop = json.loads(response_nPop)\n",
    "\n",
    "import numpy as np\n",
    "def comment_like(data):\n",
    "    comment = []\n",
    "    like = []\n",
    "    for d in data:\n",
    "        comment.append(d[\"commentCount\"])\n",
    "        like.append(d[\"likeCount\"])\n",
    "    return round(np.mean(comment), 2), round(np.mean(like), 2)\n",
    "\n",
    "print(\"熱門文章平均留言人數 =\", comment_like(data)[0], \", 平均按讚人數 =\", comment_like(data)[1], \"\\n\")\n",
    "print(\"非熱門文章平均留言人數 =\", comment_like(data_nPop)[0], \", 平均按讚人數 =\", comment_like(data_nPop)[1])"
   ]
  }
 ],
 "metadata": {
  "kernelspec": {
   "display_name": "Python 3",
   "language": "python",
   "name": "python3"
  },
  "language_info": {
   "codemirror_mode": {
    "name": "ipython",
    "version": 3
   },
   "file_extension": ".py",
   "mimetype": "text/x-python",
   "name": "python",
   "nbconvert_exporter": "python",
   "pygments_lexer": "ipython3",
   "version": "3.6.7-final"
  }
 },
 "nbformat": 4,
 "nbformat_minor": 2
}