{
 "cells": [
  {
   "cell_type": "markdown",
   "metadata": {},
   "source": [
    "# 作業\n",
    "\n",
    "以正確的副檔名下載網頁中的圖片\n",
    "範例網頁:https://www.ptt.cc/bbs/Beauty/M.1556291059.A.75A.html\n",
    "\n",
    "Note：因為 PTT 會詢問「是否滿 18 歲」，這邊可以用 cookies 繞過\n",
    "\n",
    "`requests.get(URL, cookies={'over18': '1'}`\n"
   ]
  },
  {
   "cell_type": "code",
   "execution_count": 1,
   "metadata": {},
   "outputs": [],
   "source": [
    "import requests\n",
    "import os\n",
    "\n",
    "from bs4 import BeautifulSoup\n",
    "from PIL import Image"
   ]
  },
  {
   "cell_type": "code",
   "execution_count": 40,
   "metadata": {},
   "outputs": [
    {
     "output_type": "execute_result",
     "data": {
      "text/plain": "[<a href=\"https://imgur.com/Cgb5oo1\" rel=\"nofollow\" target=\"_blank\">https://imgur.com/Cgb5oo1</a>,\n <a href=\"https://imgur.com/MgjHY4f\" rel=\"nofollow\" target=\"_blank\">https://imgur.com/MgjHY4f</a>,\n <a href=\"https://imgur.com/yeoRtAs\" rel=\"nofollow\" target=\"_blank\">https://imgur.com/yeoRtAs</a>,\n <a href=\"https://imgur.com/wsauNEW\" rel=\"nofollow\" target=\"_blank\">https://imgur.com/wsauNEW</a>,\n <a href=\"https://imgur.com/IjiETcs\" rel=\"nofollow\" target=\"_blank\">https://imgur.com/IjiETcs</a>]"
     },
     "metadata": {},
     "execution_count": 40
    }
   ],
   "source": [
    "url = 'https://www.ptt.cc/bbs/Beauty/M.1556291059.A.75A.html'\n",
    "r = requests.get(url, cookies = {'over18': '1'})\n",
    "soup = BeautifulSoup(r.text)\n",
    "img_tags = soup.find(id = 'main-content').findChildren('a', recursive=False)\n",
    "img_tags"
   ]
  },
  {
   "cell_type": "code",
   "execution_count": 49,
   "metadata": {},
   "outputs": [],
   "source": [
    "def save_img(img_tags):\n",
    "    output_dir = \"Day009_downloads\"\n",
    "    if not os.path.exists(output_dir):\n",
    "        os.makedirs(output_dir)\n",
    "\n",
    "    for img_tag in img_tags:\n",
    "        img_id = img_tag[\"href\"].split(\"/\")[-1]\n",
    "        img_url = 'https://imgur.com/{}.jpg'.format(img_id)\n",
    "        with requests.get(img_url, stream = True) as r:\n",
    "            r.raise_for_status() # To check that a request is successful\n",
    "            # check the image format and save\n",
    "            img = Image.open(r.raw) # get raw content (make sure set \"stream = T\" in the initial request)\n",
    "            img_savename = \"{outdir}/{img_id}.{img_ext}\".format(outdir = output_dir, \n",
    "                                                                img_id = img_id,\n",
    "                                                                img_ext = img.format.lower()) # .lower() 轉換成小寫\n",
    "            img.save(img_savename)\n",
    "            print('Save image: {}'.format(img_savename))"
   ]
  },
  {
   "cell_type": "code",
   "execution_count": 50,
   "metadata": {},
   "outputs": [
    {
     "output_type": "stream",
     "name": "stdout",
     "text": "Save image: Day009_downloads/Cgb5oo1.jpeg\nSave image: Day009_downloads/MgjHY4f.jpeg\nSave image: Day009_downloads/yeoRtAs.jpeg\nSave image: Day009_downloads/wsauNEW.jpeg\nSave image: Day009_downloads/IjiETcs.jpeg\n"
    }
   ],
   "source": [
    "save_img(img_tags)"
   ]
  }
 ],
 "metadata": {
  "kernelspec": {
   "display_name": "Python 3",
   "language": "python",
   "name": "python3"
  },
  "language_info": {
   "codemirror_mode": {
    "name": "ipython",
    "version": 3
   },
   "file_extension": ".py",
   "mimetype": "text/x-python",
   "name": "python",
   "nbconvert_exporter": "python",
   "pygments_lexer": "ipython3",
   "version": "3.6.7-final"
  }
 },
 "nbformat": 4,
 "nbformat_minor": 2
}