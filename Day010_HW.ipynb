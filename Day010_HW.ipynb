{
 "cells": [
  {
   "cell_type": "markdown",
   "metadata": {},
   "source": [
    "# 其他工具：Grab、PyQuery\n",
    "\n",
    "\n",
    "* 利用 Grab 套件的存取 HTML 資源\n",
    "* 利用 PyQuery 套件的解析 HTML 格式\n"
   ]
  },
  {
   "cell_type": "markdown",
   "metadata": {},
   "source": [
    "## 作業目標\n",
    "\n",
    "將之前用 requests + beatifulsoup 實作的方式，改寫成 grab + pyquery，並且比較有哪些地方不同。\n",
    "\n",
    "\n",
    "\n"
   ]
  },
  {
   "cell_type": "markdown",
   "metadata": {},
   "source": [
    "## requests + BeautifulSoup\n"
   ]
  },
  {
   "cell_type": "code",
   "execution_count": 31,
   "metadata": {
    "tags": [
     "outputPrepend"
    ]
   },
   "outputs": [],
   "source": [
    "import requests\n",
    "from bs4 import BeautifulSoup\n",
    "\n",
    "r = requests.get(\"https://www.dcard.tw/f\")\n",
    "response1 = r.text\n",
    "soup = BeautifulSoup(response1, \"html\") "
   ]
  },
  {
   "cell_type": "code",
   "execution_count": 39,
   "metadata": {},
   "outputs": [
    {
     "output_type": "stream",
     "name": "stdout",
     "text": "Type of soup = <class 'bs4.BeautifulSoup'>\n"
    },
    {
     "output_type": "execute_result",
     "data": {
      "text/plain": "'Dcard'"
     },
     "metadata": {},
     "execution_count": 39
    }
   ],
   "source": [
    "print(\"Type of soup =\", type(soup))\n",
    "soup.title.text"
   ]
  },
  {
   "cell_type": "markdown",
   "metadata": {},
   "source": [
    "## Grab + PyQuery\n",
    "`PyQuery 是一個利用 CSS Selector 選取資料的解析工具。`\n",
    "\n",
    "`像BeautifulSoup⼀樣，PyQuery 初始化的時候也需要傳入HTML 字串來初始化一個操作對象，接著就可以⽤ doc 的⽅式搭配 CSS 選擇器存取資料。`"
   ]
  },
  {
   "cell_type": "code",
   "execution_count": 29,
   "metadata": {
    "scrolled": false
   },
   "outputs": [
    {
     "output_type": "execute_result",
     "data": {
      "text/plain": "'Dcard'"
     },
     "metadata": {},
     "execution_count": 29
    }
   ],
   "source": [
    "from grab import Grab\n",
    "from pyquery import PyQuery as pq\n",
    "\n",
    "g = Grab()\n",
    "response2 = g.go(\"https://www.dcard.tw/f\")\n",
    "\n",
    "doc = pq(response2.body)"
   ]
  },
  {
   "cell_type": "code",
   "execution_count": 41,
   "metadata": {},
   "outputs": [
    {
     "output_type": "stream",
     "name": "stdout",
     "text": "type of doc = <class 'pyquery.pyquery.PyQuery'> \n\nDcard\n"
    }
   ],
   "source": [
    "print(\"type of doc =\", type(doc), \"\\n\")\n",
    "\n",
    "title = doc('title')\n",
    "print(title.text())"
   ]
  }
 ],
 "metadata": {
  "kernelspec": {
   "display_name": "Python 3",
   "language": "python",
   "name": "python3"
  },
  "language_info": {
   "codemirror_mode": {
    "name": "ipython",
    "version": 3
   },
   "file_extension": ".py",
   "mimetype": "text/x-python",
   "name": "python",
   "nbconvert_exporter": "python",
   "pygments_lexer": "ipython3",
   "version": "3.6.7-final"
  }
 },
 "nbformat": 4,
 "nbformat_minor": 2
}