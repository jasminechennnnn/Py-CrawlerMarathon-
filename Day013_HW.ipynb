{
 "cells": [
  {
   "cell_type": "markdown",
   "metadata": {},
   "source": [
    "# PTT 網路爬蟲實作練習\n",
    "\n",
    "\n",
    "* 能夠利用 Request + BeatifulSour 撰寫爬蟲，並存放到合適的資料結構\n"
   ]
  },
  {
   "cell_type": "markdown",
   "metadata": {},
   "source": [
    "## 作業目標\n",
    "\n",
    "根據範例 ，完成以下問題：\n",
    "\n",
    "* ① 印出最新文章的「作者」「標題」「時間」\n",
    "* ② 印出第一頁所有文章的「作者」「標題」「時間」\n"
   ]
  },
  {
   "cell_type": "markdown",
   "metadata": {},
   "source": [
    "### ① 印出最新文章的「作者」「標題」「時間」"
   ]
  },
  {
   "cell_type": "code",
   "execution_count": 1,
   "metadata": {},
   "outputs": [],
   "source": [
    "import requests\n",
    "from bs4 import BeautifulSoup\n",
    "\n",
    "url = 'https://www.ptt.cc/bbs/NBA/index.html'\n",
    "r = requests.get(url)\n",
    "\n",
    "soup = BeautifulSoup(r.text, \"html5lib\")"
   ]
  },
  {
   "cell_type": "code",
   "execution_count": 2,
   "metadata": {
    "tags": []
   },
   "outputs": [
    {
     "output_type": "stream",
     "name": "stdout",
     "text": "[外絮] Clifford Robinson死因公布: 淋巴癌\n作者: pneumo (超☆冒險蓋)\nRe: [BOX ] Nuggets 119:107 Jazz\n作者: sam86716 (無解)\n[花邊] 該贏未贏怒了! 爵士米歇爾:很難接受被逼到第7戰\n作者: thnlkj0665 (灰色地帶)\nRe: [討論] Silver (蕭華) 的總裁職責到底是什麼？\n作者: sungastill (桑嘎斯)\n[討論] 有黑人球員幫077說話嗎？\n作者: acer4545 (acer4545)\n[討論] Monta Ellis 還有可能再回來嗎\n作者: koko0123 (KoKo)\n[花邊] 坦言泡泡復賽不容易 詹皇承認曾有一走了\n作者: lovea (lovea)\n[公告] 板規v6.8\n[公告] 第一次被退文，可在三天後刪除退文\n作者: Vedan (味丹)\n[公告] 8/15實施季後賽條款 以及提醒事項(發P) \n作者: namie810303 (爽喔!! 你看看你)\n[情報] Playoffs Schedule 19–20\n作者: Acetoxy (阿斯)\n"
    }
   ],
   "source": [
    "for d in soup.find_all(class_=\"title\"):\n",
    "    print(d.text.replace('\\t', '').replace('\\n', ''))\n",
    "    try:\n",
    "        r = BeautifulSoup(requests.get('https://www.ptt.cc'+d.find('a')['href']).text, \"html5lib\")\n",
    "        print('作者: ' + r.find(class_='article-meta-value').text)\n",
    "    except:\n",
    "        continue"
   ]
  },
  {
   "cell_type": "markdown",
   "metadata": {},
   "source": [
    "### ② 印出第一頁所有文章的「作者」「標題」「時間」"
   ]
  },
  {
   "cell_type": "code",
   "execution_count": 4,
   "metadata": {
    "tags": []
   },
   "outputs": [
    {
     "output_type": "stream",
     "name": "stdout",
     "text": "[轉錄]Lyotard 對於太陽板討論串的結論\n作者: Price (Price)\n[公告] 請停止一切關於本次活動的發言\n作者: Price (Price)\n[轉錄]跟之前那篇比起來 我覺得這篇也應該轉過來\n作者: Frankaze (神采風華)\n[轉錄]再轉一篇好文來\n作者: Frankaze (神采風華)\n[轉錄][情報] 夏洛特山貓系列\n作者: Price (Price)\n[轉錄]Re: [心得] 真是受不了糗爺....\n作者: Price (Price)\n[轉錄]總冠軍賽NO.2觀後感\n作者: Price (Price)\n[心得] Rasheed Wallace\n作者: AmuroNamie (原來太嗨真的會失眠^___^)\n掌控球賽的男人\n作者: toptree (  )\n[閒聊] 說說2004季後賽名場面回顧\n作者: skchang (3EB板開板囉！)\n[心得] 其實說穿了 就是活塞的防守太可怕了\n作者: shineup ()\nRe: [閒聊] 說說2004季後賽名場面回顧\n作者: cOvi (喵~)\nRe: [閒聊] 說說2004季後賽名場面回顧\n作者: ykshih (￼N￼Ns)\nRe: [閒聊] 說說2004季後賽名場面回顧\n作者: Frankaze (神采風華)\n[轉錄]Re: 總冠軍賽NO.3觀後感\n作者: Price (Price)\n[轉錄]Re: 總冠軍賽NO.3觀後感\n作者: Frankaze (神采風華)\nRe: [轉錄]Re: 總冠軍賽NO.3觀後感\n作者: star1 (第一次魔術表演不算成功)\nRe: [轉錄]Re: 總冠軍賽NO.3觀後感\n作者: coldspring (笑笑)\nRe: Kobe is frustrated...\n作者: airbear (地圖)\nRe: [轉錄]Re: 總冠軍賽NO.3觀後感\n作者: pennykidd (andre)\n"
    }
   ],
   "source": [
    "# 最舊文章(第一頁):\n",
    "# url = 'https://www.ptt.cc/bbs/NBA/index1.html'\n",
    "\n",
    "url = 'https://www.ptt.cc/bbs/NBA/index1.html'\n",
    "r = requests.get(url)\n",
    "\n",
    "soup = BeautifulSoup(r.text, \"html5lib\")\n",
    "for d in soup.find_all(class_=\"title\"):\n",
    "    print(d.text.replace('\\t', '').replace('\\n', ''))\n",
    "    try:\n",
    "        r = BeautifulSoup(requests.get('https://www.ptt.cc'+d.find('a')['href']).text, \"html5lib\")\n",
    "        print('作者: ' + r.find(class_='article-meta-value').text)\n",
    "    except:\n",
    "        continue"
   ]
  },
  {
   "cell_type": "markdown",
   "metadata": {},
   "source": [
    "### ③ 試著爬爬看其他版的文章"
   ]
  },
  {
   "cell_type": "code",
   "execution_count": null,
   "metadata": {},
   "outputs": [],
   "source": []
  }
 ],
 "metadata": {
  "kernelspec": {
   "display_name": "Python 3",
   "language": "python",
   "name": "python3"
  },
  "language_info": {
   "codemirror_mode": {
    "name": "ipython",
    "version": 3
   },
   "file_extension": ".py",
   "mimetype": "text/x-python",
   "name": "python",
   "nbconvert_exporter": "python",
   "pygments_lexer": "ipython3",
   "version": "3.6.7-final"
  }
 },
 "nbformat": 4,
 "nbformat_minor": 2
}