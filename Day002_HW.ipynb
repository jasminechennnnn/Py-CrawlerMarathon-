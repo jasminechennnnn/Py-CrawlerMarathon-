{
 "cells": [
  {
   "cell_type": "markdown",
   "metadata": {},
   "source": [
    "# Python 下載CSV檔案與解析\n",
    "\n",
    "\n",
    "* 了解 csv 檔案格式與內容\n",
    "* 能夠利用套件存取 csv 格式的檔案\n",
    "\n"
   ]
  },
  {
   "cell_type": "markdown",
   "metadata": {},
   "source": [
    "## 作業目標\n",
    "\n",
    "* 比較一下範例檔案中的「File I/O」與「CSV Reader」讀出來的內容有什麼差異\n",
    "\n",
    "* 根據範例檔案的結果：\n",
    "    1. 取出班次一的每一個時間\n",
    "    2. 將班次一的每一個時間用一種資料型態保存\n",
    "    3. 將班次一到五與其所有時間用一種資料型態個別保存\n"
   ]
  },
  {
   "cell_type": "markdown",
   "metadata": {},
   "source": [
    "### 比較一下範例檔案中的「File I/O」與「CSV Reader」讀出來的內容有什麼差異"
   ]
  },
  {
   "cell_type": "code",
   "execution_count": 11,
   "metadata": {},
   "outputs": [
    {
     "output_type": "stream",
     "name": "stdout",
     "text": "﻿序號,路線編號,起訖站,平/假日,站名,班次1,班次2,班次3,班次4,班次5,班次6,班次7,班次8,班次9,班次10,班次11,是否單邊停靠\n\n1,51,香山區公所—火車站（先經中山路）,平日,香山區公所,06:30,07:50,09:10,10:30,12:00,13:20,14:40,16:10,18:10,19:40,21:10,否\n\n2,51,香山區公所—火車站（先經中山路）,平日,香山國小,06:32,07:52,09:12,10:32,12:02,13:22,14:42,16:12,18:12,19:42,21:12,否\n\n3,51,香山區公所—火車站（先經中山路）,平日,聖德宮,06:33,07:53,09:13,10:33,12:03,13:23,14:43,16:13,18:13,19:43,21:13,否\n\n4,51,香山區公所—火車站（先經中山路）,平日,頂埔社區,06:34,07:55,09:15,10:35,12:05,13:24,14:45,16:15,18:15,19:45,21:15,否\n\n"
    }
   ],
   "source": [
    "# File I/O\n",
    "\n",
    "fh = open(\"./data/example.csv\", \"r\", encoding = 'utf-8')\n",
    "for i in range(5):\n",
    "    print(fh.readline())\n",
    "fh.close()"
   ]
  },
  {
   "cell_type": "code",
   "execution_count": 23,
   "metadata": {},
   "outputs": [
    {
     "output_type": "stream",
     "name": "stdout",
     "text": "['\\ufeff序號', '路線編號', '起訖站', '平/假日', '站名', '班次1', '班次2', '班次3', '班次4', '班次5', '班次6', '班次7', '班次8', '班次9', '班次10', '班次11', '是否單邊停靠']\n['1', '51', '香山區公所—火車站（先經中山路）', '平日', '香山區公所', '06:30', '07:50', '09:10', '10:30', '12:00', '13:20', '14:40', '16:10', '18:10', '19:40', '21:10', '否']\n['2', '51', '香山區公所—火車站（先經中山路）', '平日', '香山國小', '06:32', '07:52', '09:12', '10:32', '12:02', '13:22', '14:42', '16:12', '18:12', '19:42', '21:12', '否']\n['3', '51', '香山區公所—火車站（先經中山路）', '平日', '聖德宮', '06:33', '07:53', '09:13', '10:33', '12:03', '13:23', '14:43', '16:13', '18:13', '19:43', '21:13', '否']\n"
    }
   ],
   "source": [
    "# csv reader\n",
    "\n",
    "import csv\n",
    "# 開啟 CSV 檔案\n",
    "with open('./data/example.csv', newline = '', encoding = 'utf-8') as csvfile:\n",
    "    # 讀取 CSV 檔案內容\n",
    "    rows = csv.reader(csvfile)\n",
    "    # 以迴圈輸出每一列\n",
    "    i = 0\n",
    "    for row in rows:\n",
    "        i += 1\n",
    "        if (i == 5):\n",
    "            break\n",
    "        print(row)"
   ]
  },
  {
   "cell_type": "markdown",
   "metadata": {},
   "source": [
    "### 根據範例檔案的結果：\n",
    "\n",
    "1. 取出班次一的每一個時間\n",
    "2. 將班次一的每一個時間用一種資料型態保存\n",
    "3. 將班次一到五與其所有時間用一種資料型態個別保存"
   ]
  },
  {
   "cell_type": "code",
   "execution_count": 82,
   "metadata": {},
   "outputs": [
    {
     "output_type": "stream",
     "name": "stdout",
     "text": "班次1\n06:30\n06:32\n06:33\n06:34\n06:36\n06:38\n06:39\n06:41\n"
    }
   ],
   "source": [
    "# 1. 取出班次一的每一個時間\n",
    "with open(\"./data/example.csv\", \"r\", encoding = 'utf-8') as csvfile:\n",
    "    rows = csv.reader(csvfile)\n",
    "    i = 0\n",
    "    for row in rows:\n",
    "        i += 1\n",
    "        if (i == 10):\n",
    "            break\n",
    "        print(row[5])"
   ]
  },
  {
   "cell_type": "code",
   "execution_count": 86,
   "metadata": {},
   "outputs": [
    {
     "output_type": "execute_result",
     "data": {
      "text/plain": "77"
     },
     "metadata": {},
     "execution_count": 86
    }
   ],
   "source": [
    "# 2. 將班次一的每一個時間用一種資料型態保存\n",
    "with open(\"./data/example.csv\", \"r\", encoding = 'utf-8') as csvfile:\n",
    "    rows = csv.reader(csvfile)\n",
    "    bus1 = []\n",
    "    for row in rows:\n",
    "        bus1.append(row[5])\n",
    "len(bus1)"
   ]
  },
  {
   "cell_type": "code",
   "execution_count": 106,
   "metadata": {},
   "outputs": [
    {
     "output_type": "stream",
     "name": "stdout",
     "text": "班次1 班次2 班次3 班次4 班次5 \n\n06:30 07:50 09:10 10:30 12:00 \n\n06:32 07:52 09:12 10:32 12:02 \n\n"
    }
   ],
   "source": [
    "# 3. 將班次一到五與其所有時間用一種資料型態個別保存\n",
    "bus1 = []\n",
    "bus2 = []\n",
    "bus3 = []\n",
    "bus4 = []\n",
    "bus5 = []\n",
    "with open(\"./data/example.csv\", \"r\", encoding = 'utf-8') as csvfile: \n",
    "    rows = csv.reader(csvfile)  \n",
    "    for row in rows:\n",
    "        bus1.append(row[5])\n",
    "        bus2.append(row[6])\n",
    "        bus3.append(row[7])\n",
    "        bus4.append(row[8])\n",
    "        bus5.append(row[9])\n",
    "\n",
    "for i in range(3):\n",
    "    print(bus1[i], bus2[i], bus3[i], bus4[i], bus5[i], \"\\n\") "
   ]
  },
  {
   "cell_type": "code",
   "execution_count": null,
   "metadata": {},
   "outputs": [],
   "source": []
  }
 ],
 "metadata": {
  "kernelspec": {
   "display_name": "Python 3",
   "language": "python",
   "name": "python3"
  },
  "language_info": {
   "codemirror_mode": {
    "name": "ipython",
    "version": 3
   },
   "file_extension": ".py",
   "mimetype": "text/x-python",
   "name": "python",
   "nbconvert_exporter": "python",
   "pygments_lexer": "ipython3",
   "version": "3.6.7-final"
  }
 },
 "nbformat": 4,
 "nbformat_minor": 2
}